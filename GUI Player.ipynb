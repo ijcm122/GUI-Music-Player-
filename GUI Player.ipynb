{
 "cells": [
  {
   "cell_type": "code",
   "execution_count": 3,
   "metadata": {},
   "outputs": [
    {
     "name": "stdout",
     "output_type": "stream",
     "text": [
      "Collecting pygame\n",
      "  Downloading pygame-2.0.1-cp38-cp38-macosx_10_9_intel.whl (6.9 MB)\n",
      "\u001b[K     |████████████████████████████████| 6.9 MB 3.4 MB/s eta 0:00:01     |████████████████████████▉       | 5.4 MB 3.4 MB/s eta 0:00:01\n",
      "\u001b[?25hInstalling collected packages: pygame\n",
      "Successfully installed pygame-2.0.1\n",
      "Note: you may need to restart the kernel to use updated packages.\n"
     ]
    }
   ],
   "source": [
    "pip install pygame"
   ]
  },
  {
   "cell_type": "code",
   "execution_count": 4,
   "metadata": {},
   "outputs": [
    {
     "name": "stdout",
     "output_type": "stream",
     "text": [
      "pygame 2.0.1 (SDL 2.0.14, Python 3.8.5)\n",
      "Hello from the pygame community. https://www.pygame.org/contribute.html\n"
     ]
    }
   ],
   "source": [
    "from tkinter import *\n",
    "from tkinter import filedialog\n",
    "from pygame import mixer"
   ]
  },
  {
   "cell_type": "code",
   "execution_count": 5,
   "metadata": {},
   "outputs": [],
   "source": [
    "class MusicPlayer:\n",
    "    def __init__(self, window ):\n",
    "        window.geometry('320x100'); window.title('Iris Player'); window.resizable(0,0)\n",
    "        Load = Button(window, text = 'Load',  width = 10, font = ('Times', 10), command = self.load)\n",
    "        Play = Button(window, text = 'Play',  width = 10,font = ('Times', 10), command = self.play)\n",
    "        Pause = Button(window,text = 'Pause',  width = 10, font = ('Times', 10), command = self.pause)\n",
    "        Stop = Button(window ,text = 'Stop',  width = 10, font = ('Times', 10), command = self.stop)\n",
    "        Load.place(x=0,y=20);Play.place(x=110,y=20);Pause.place(x=220,y=20);Stop.place(x=110,y=60) \n",
    "        self.music_file = False\n",
    "        self.playing_state = False\n",
    "    def load(self):\n",
    "        self.music_file = filedialog.askopenfilename()\n",
    "    def play(self):\n",
    "        if self.music_file:\n",
    "            mixer.init()\n",
    "            mixer.music.load(self.music_file)\n",
    "            mixer.music.play()\n",
    "    def pause(self):\n",
    "        if not self.playing_state:\n",
    "            mixer.music.pause()\n",
    "            self.playing_state=True\n",
    "        else:\n",
    "            mixer.music.unpause()\n",
    "            self.playing_state = False\n",
    "    def stop(self):\n",
    "        mixer.music.stop()\n",
    "root = Tk()\n",
    "app= MusicPlayer(root)\n",
    "root.mainloop()"
   ]
  }
 ],
 "metadata": {
  "kernelspec": {
   "display_name": "Python 3",
   "language": "python",
   "name": "python3"
  },
  "language_info": {
   "codemirror_mode": {
    "name": "ipython",
    "version": 3
   },
   "file_extension": ".py",
   "mimetype": "text/x-python",
   "name": "python",
   "nbconvert_exporter": "python",
   "pygments_lexer": "ipython3",
   "version": "3.8.5"
  }
 },
 "nbformat": 4,
 "nbformat_minor": 4
}
